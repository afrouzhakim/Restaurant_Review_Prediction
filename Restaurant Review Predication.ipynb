{
 "cells": [
  {
   "cell_type": "code",
   "execution_count": 2,
   "id": "de39699f",
   "metadata": {},
   "outputs": [],
   "source": [
    "import numpy as np\n",
    "import matplotlib.pyplot as plt\n",
    "import pandas as pd"
   ]
  },
  {
   "cell_type": "code",
   "execution_count": 3,
   "id": "ff08b114",
   "metadata": {},
   "outputs": [],
   "source": [
    "# Importing the dataset\n",
    "data = pd.read_csv('C:/Users/User/Desktop/DS-Projects/NLP/Restaurant_Reviews.tsv', sep='\\t', quoting=3)\n",
    "# quoting parameter will avoid any issue related to double quotes in reviews text\n"
   ]
  },
  {
   "cell_type": "code",
   "execution_count": 5,
   "id": "2223af67",
   "metadata": {},
   "outputs": [
    {
     "data": {
      "text/html": [
       "<div>\n",
       "<style scoped>\n",
       "    .dataframe tbody tr th:only-of-type {\n",
       "        vertical-align: middle;\n",
       "    }\n",
       "\n",
       "    .dataframe tbody tr th {\n",
       "        vertical-align: top;\n",
       "    }\n",
       "\n",
       "    .dataframe thead th {\n",
       "        text-align: right;\n",
       "    }\n",
       "</style>\n",
       "<table border=\"1\" class=\"dataframe\">\n",
       "  <thead>\n",
       "    <tr style=\"text-align: right;\">\n",
       "      <th></th>\n",
       "      <th>Review</th>\n",
       "      <th>Liked</th>\n",
       "    </tr>\n",
       "  </thead>\n",
       "  <tbody>\n",
       "    <tr>\n",
       "      <th>0</th>\n",
       "      <td>Wow... Loved this place.</td>\n",
       "      <td>1</td>\n",
       "    </tr>\n",
       "    <tr>\n",
       "      <th>1</th>\n",
       "      <td>Crust is not good.</td>\n",
       "      <td>0</td>\n",
       "    </tr>\n",
       "    <tr>\n",
       "      <th>2</th>\n",
       "      <td>Not tasty and the texture was just nasty.</td>\n",
       "      <td>0</td>\n",
       "    </tr>\n",
       "    <tr>\n",
       "      <th>3</th>\n",
       "      <td>Stopped by during the late May bank holiday of...</td>\n",
       "      <td>1</td>\n",
       "    </tr>\n",
       "    <tr>\n",
       "      <th>4</th>\n",
       "      <td>The selection on the menu was great and so wer...</td>\n",
       "      <td>1</td>\n",
       "    </tr>\n",
       "  </tbody>\n",
       "</table>\n",
       "</div>"
      ],
      "text/plain": [
       "                                              Review  Liked\n",
       "0                           Wow... Loved this place.      1\n",
       "1                                 Crust is not good.      0\n",
       "2          Not tasty and the texture was just nasty.      0\n",
       "3  Stopped by during the late May bank holiday of...      1\n",
       "4  The selection on the menu was great and so wer...      1"
      ]
     },
     "execution_count": 5,
     "metadata": {},
     "output_type": "execute_result"
    }
   ],
   "source": [
    "data.head()"
   ]
  },
  {
   "cell_type": "code",
   "execution_count": 6,
   "id": "6ef18ac6",
   "metadata": {},
   "outputs": [
    {
     "name": "stderr",
     "output_type": "stream",
     "text": [
      "[nltk_data] Downloading package stopwords to\n",
      "[nltk_data]     C:\\Users\\User\\AppData\\Roaming\\nltk_data...\n",
      "[nltk_data]   Package stopwords is already up-to-date!\n"
     ]
    }
   ],
   "source": [
    "#Data cleaning\n",
    "import re # regular expression library\n",
    "import nltk\n",
    "nltk.download('stopwords')\n",
    "from nltk.corpus import stopwords\n",
    "from nltk.stem.porter import PorterStemmer"
   ]
  },
  {
   "cell_type": "code",
   "execution_count": 14,
   "id": "a3edab11",
   "metadata": {},
   "outputs": [
    {
     "name": "stdout",
     "output_type": "stream",
     "text": [
      "Wow    Loved this place \n"
     ]
    }
   ],
   "source": [
    "data['Review'][0] # first review\n",
    "review = re.sub('[^a-zA-Z]',' ',data['Review'][0])\n",
    "print(review)"
   ]
  },
  {
   "cell_type": "code",
   "execution_count": 15,
   "id": "911b6ccb",
   "metadata": {},
   "outputs": [
    {
     "name": "stdout",
     "output_type": "stream",
     "text": [
      "wow    loved this place \n"
     ]
    }
   ],
   "source": [
    "# convert all the letters in lowercase\n",
    "review = review.lower()\n",
    "print(review)"
   ]
  },
  {
   "cell_type": "code",
   "execution_count": 16,
   "id": "6bb9d6f7",
   "metadata": {},
   "outputs": [],
   "source": [
    "#Removing the stopwords\n",
    "review =review.split() # a single review is a string, words are not seperated\n",
    "# to gothrough all the words, we have to split the words"
   ]
  },
  {
   "cell_type": "code",
   "execution_count": 20,
   "id": "f6d686fe",
   "metadata": {},
   "outputs": [],
   "source": [
    "# taking all the words in review except stop words\n",
    "review = [word for word in review if not word in set(stopwords.words('english'))] "
   ]
  },
  {
   "cell_type": "code",
   "execution_count": 28,
   "id": "b4969686",
   "metadata": {},
   "outputs": [],
   "source": [
    "#Stemming\n",
    "ps = PorterStemmer()\n",
    "review = [ps.stem(word) for word in review if not word in set(stopwords.words('english'))] \n",
    "review = ' '.join(review)"
   ]
  },
  {
   "cell_type": "code",
   "execution_count": 33,
   "id": "143f24f0",
   "metadata": {},
   "outputs": [],
   "source": [
    "#Apply text cleaning to all the reviews in dataset\n",
    "# define an empty list\n",
    "corpus = [] \n",
    "for i in range(0, 1000): \n",
    "  review = re.sub('[^a-zA-Z]',' ',data['Review'][i]) \n",
    "  review = review.lower() # convert all the letters in lowercase\n",
    "  review =review.split() # a single review is a string, words are not seperated\n",
    "  # to gothrough all the words, we have to split the words\n",
    "  ps = PorterStemmer() # object of class PorterStemmer\n",
    "  review = [ps.stem(word) for word in review if not word in set(stopwords.words('english'))] # taking all the words in review except stop words\n",
    "  review = ' '.join(review)\n",
    "  corpus.append(review)"
   ]
  },
  {
   "cell_type": "code",
   "execution_count": null,
   "id": "4c2e695f",
   "metadata": {},
   "outputs": [],
   "source": [
    "#Bag of Words model\n",
    "\n",
    "# In Bag of Words model we will take all the words in 1000 reviews and here we will select unique words, no repeatition.\n",
    "#then we will create one column to each unique word after that we will put all these columns in a table, where rows = 1000 reviews and columns = words"
   ]
  },
  {
   "cell_type": "code",
   "execution_count": 35,
   "id": "eb333216",
   "metadata": {},
   "outputs": [],
   "source": [
    "from sklearn.feature_extraction.text import CountVectorizer\n",
    "cv = CountVectorizer(max_features=1500) # keep 1500 most frequent words\n",
    "x = cv.fit_transform(corpus).toarray() # convert x into matrix using toarray method"
   ]
  },
  {
   "cell_type": "code",
   "execution_count": 38,
   "id": "40ab480d",
   "metadata": {},
   "outputs": [
    {
     "data": {
      "text/plain": [
       "(1000, 1500)"
      ]
     },
     "execution_count": 38,
     "metadata": {},
     "output_type": "execute_result"
    }
   ],
   "source": [
    "x.shape"
   ]
  },
  {
   "cell_type": "code",
   "execution_count": 39,
   "id": "550e45ab",
   "metadata": {},
   "outputs": [],
   "source": [
    "y = data.iloc[:, 1].values"
   ]
  },
  {
   "cell_type": "code",
   "execution_count": null,
   "id": "1cbf56dd",
   "metadata": {},
   "outputs": [],
   "source": []
  }
 ],
 "metadata": {
  "kernelspec": {
   "display_name": "Python 3 (ipykernel)",
   "language": "python",
   "name": "python3"
  },
  "language_info": {
   "codemirror_mode": {
    "name": "ipython",
    "version": 3
   },
   "file_extension": ".py",
   "mimetype": "text/x-python",
   "name": "python",
   "nbconvert_exporter": "python",
   "pygments_lexer": "ipython3",
   "version": "3.10.7"
  }
 },
 "nbformat": 4,
 "nbformat_minor": 5
}
